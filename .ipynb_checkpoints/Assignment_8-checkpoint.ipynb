{
 "cells": [
  {
   "cell_type": "markdown",
   "metadata": {},
   "source": [
    "Assignment #8\n",
    "============="
   ]
  },
  {
   "cell_type": "markdown",
   "metadata": {},
   "source": [
    "Problem #1\n",
    "------------"
   ]
  },
  {
   "cell_type": "markdown",
   "metadata": {},
   "source": [
    "a)\n",
    "----"
   ]
  },
  {
   "cell_type": "code",
   "execution_count": 2,
   "metadata": {},
   "outputs": [],
   "source": [
    "from numpy import sqrt\n",
    "\n",
    "def quadsolv(a,b,c):                              \n",
    "    xpls = ((-b + sqrt(b**2 - (4*a*c)))/(2*a))    # simply plugging in x= ( -b +/- sqrt(b**2 - 2ac) ) / 2a\n",
    "    xmns = ((-b - sqrt(b**2 - (4*a*c)))/(2*a))    # two cases for plus and minus\n",
    "    \n",
    "    return(print('The solutions for x are: {} and {}'.format(xpls,xmns))) # Very simple output. Does not differentiate between one root and two roots"
   ]
  },
  {
   "cell_type": "code",
   "execution_count": 3,
   "metadata": {},
   "outputs": [
    {
     "name": "stdout",
     "output_type": "stream",
     "text": [
      "The solutions for x are: -9.999894245993346e-07 and -999999.999999\n"
     ]
    }
   ],
   "source": [
    "quadsolv(0.001,1000,0.001)"
   ]
  },
  {
   "cell_type": "markdown",
   "metadata": {},
   "source": [
    "b)\n",
    "----"
   ]
  },
  {
   "cell_type": "code",
   "execution_count": 4,
   "metadata": {},
   "outputs": [],
   "source": [
    "def Modquadsolv(a,b,c):\n",
    "    xpls = ((-b + sqrt(b**2 - (4*a*c)))/(2*a))     # Repeat of original form\n",
    "    xmns = ((-b - sqrt(b**2 - (4*a*c)))/(2*a))\n",
    "    \n",
    "    xmodmns = ((2*c)/(-b - sqrt(b**2 - (4*a*c))))   # Added simple solutions using form x = 2c / ( -b -/+ sqrt(b**2 - 2ac) ) \n",
    "    xmodpls = ((2*c)/(-b + sqrt(b**2 - (4*a*c))))\n",
    "    \n",
    "    return(print('The solutions for x are: {} and {} While the solutions with the modified equation are: {} and {}'.format(xpls,xmns,xmodmns, xmodpls)))"
   ]
  },
  {
   "cell_type": "code",
   "execution_count": 5,
   "metadata": {},
   "outputs": [
    {
     "name": "stdout",
     "output_type": "stream",
     "text": [
      "The solutions for x are: -9.999894245993346e-07 and -999999.999999 While the solutions with the modified equation are: -1.000000000001e-06 and -1000010.5755125057\n"
     ]
    }
   ],
   "source": [
    "Modquadsolv(0.001,1000,0.001)"
   ]
  },
  {
   "cell_type": "markdown",
   "metadata": {},
   "source": [
    "The two methods do not produce the same answer. This discrepancy is caused by precision errors caused by the subtraction of two similar numbers."
   ]
  },
  {
   "cell_type": "markdown",
   "metadata": {},
   "source": [
    "c)\n",
    "----"
   ]
  },
  {
   "cell_type": "code",
   "execution_count": 6,
   "metadata": {},
   "outputs": [
    {
     "name": "stdout",
     "output_type": "stream",
     "text": [
      "The solutions for x are: -1.000000000001e-06 and -999999.999999\n"
     ]
    }
   ],
   "source": [
    "def quadsolvf(a,b,c):\n",
    "       \n",
    "    if b > 0:                                         # Fuction chooses correct method based on sign of b\n",
    "        xpls = ((2*c)/(-b - sqrt(b**2 - (4*a*c))))    # done in order to avoid subtracting similar numbers\n",
    "        xmns = ((-b - sqrt(b**2 - (4*a*c)))/(2*a))    # as now -b +/- sqrt(b**2 - 4ac) will always move away from 0\n",
    "    else:\n",
    "        xpls = ((-b + sqrt(b**2 - (4*a*c)))/(2*a))\n",
    "        xmns = ((2*c)/(-b + sqrt(b**2 - (4*a*c))))\n",
    "        \n",
    "    return(print('The solutions for x are: {} and {}'.format(xpls,xmns))) \n",
    "\n",
    "quadsolvf(.001,1000,.001)"
   ]
  },
  {
   "cell_type": "markdown",
   "metadata": {},
   "source": [
    "Problem #2\n",
    "========="
   ]
  },
  {
   "cell_type": "markdown",
   "metadata": {},
   "source": [
    "a)\n",
    "---"
   ]
  },
  {
   "cell_type": "code",
   "execution_count": 19,
   "metadata": {},
   "outputs": [],
   "source": [
    "from math import exp\n",
    "\n",
    "def cvt(T):\n",
    "    kb = 1.38e-23         # Boltzmann's constant in J/K\n",
    "    V = 1000/(100**3)     # Volume in m^3 \n",
    "    p = 6.022e28          # Number density in m^-3\n",
    "    ThetaD = 428          # Debye Temperature in Kelvin\n",
    "    N = 1000             # Number of sample points for integral\n",
    "    rmin = 0                         #lower bound of integral\n",
    "    rmax = ThetaD/T                 #upper limit of integral\n",
    "    Cout = 9*V*p*kb*((T/ThetaD)**3)   #constants outside of integral\n",
    "    dx = rmax/N        # step size for integral\n",
    "    rsum = 0           #initialize sum value for integral total\n",
    "    \n",
    "    def integrand(x):\n",
    "        if x ==0:\n",
    "            return(0)\n",
    "        else:\n",
    "            return( ((x**4)*exp(x))/((exp(x)-1)**2) )   # general formula for integrand\n",
    "   \n",
    "    def area(xl,xr):\n",
    "        return(((integrand(xl) + integrand(xr))*(xr-xl))/2)   #area of trapezoid\n",
    "    \n",
    "    for i in range(0,N+1):       # since integrand = at x = 0 run 1000 steps of size dx to cover integral \n",
    "        xl = rmin + i*dx                # set leftmost x value\n",
    "        xr = rmin + (i+1)*dx            #set rightmost x value\n",
    "        rsum += area(xl,xr)      # sum areas of all trapezoids in this interval\n",
    "    \n",
    "    return(rsum*Cout)            #return integral times constants"
   ]
  },
  {
   "cell_type": "markdown",
   "metadata": {},
   "source": [
    "b)\n",
    "---"
   ]
  },
  {
   "cell_type": "code",
   "execution_count": 20,
   "metadata": {},
   "outputs": [],
   "source": [
    "from matplotlib import pyplot as plt\n",
    "import numpy as np"
   ]
  },
  {
   "cell_type": "code",
   "execution_count": 22,
   "metadata": {},
   "outputs": [
    {
     "data": {
      "image/png": "[encoded data removed]",
      "text/plain": [
       "<Figure size 1440x1080 with 1 Axes>"
      ]
     },
     "metadata": {
      "needs_background": "light"
     },
     "output_type": "display_data"
    }
   ],
   "source": [
    "fig1 = plt.figure(figsize=(20,15))       # initialize plot figure\n",
    "ax = fig1.add_subplot(111)               # single plot taking up entire figure\n",
    "\n",
    "T = np.arange(5,501)                     # array for all x values\n",
    "\n",
    "Cv=[]                                    # initialize array for y values\n",
    "for i in T:                 \n",
    "    Cv.append(cvt(i))                    # fill array with y values from integral function\n",
    "    \n",
    "ax.scatter(T,Cv,s=5,c='b',alpha=0.9)   # create scatter plot\n",
    "\n",
    "ax.xaxis.set_tick_params(labelsize=20)     # set ticks for axes   \n",
    "ax.yaxis.set_tick_params(labelsize=20)\n",
    "\n",
    "ax.set_title(\"Heat Capacity vs Temperature from Debye's Theory of Solids\", size = 20)\n",
    "ax.set_xlabel(\"$T$ ($K$)\",size=20)                                                     # set labels\n",
    "ax.set_ylabel(\"$Cv$ ( $J  K^{-1}$ )\",size=20) \n",
    "\n",
    "ax.set_xlim(0,500)                     # limit ranges of x and y\n",
    "ax.set_ylim(0,2500)\n",
    "\n",
    "plt.savefig(\"Cv_T.png\")              #save and show plot\n",
    "plt.show()"
   ]
  },
  {
   "cell_type": "code",
   "execution_count": null,
   "metadata": {},
   "outputs": [],
   "source": []
  }
 ],
 "metadata": {
  "kernelspec": {
   "display_name": "Python 3",
   "language": "python",
   "name": "python3"
  },
  "language_info": {
   "codemirror_mode": {
    "name": "ipython",
    "version": 3
   },
   "file_extension": ".py",
   "mimetype": "text/x-python",
   "name": "python",
   "nbconvert_exporter": "python",
   "pygments_lexer": "ipython3",
   "version": "3.7.4"
  }
 },
 "nbformat": 4,
 "nbformat_minor": 2
}
