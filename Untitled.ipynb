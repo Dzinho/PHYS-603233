{
 "cells": [
  {
   "cell_type": "markdown",
   "metadata": {},
   "source": [
    "Assignment #10\n",
    "=============="
   ]
  },
  {
   "cell_type": "markdown",
   "metadata": {},
   "source": [
    "1) Let's Make a Deal\n",
    "-----------------------"
   ]
  },
  {
   "cell_type": "code",
   "execution_count": null,
   "metadata": {},
   "outputs": [],
   "source": [
    "import random\n",
    "\n",
    "#def dealmaker(x):\n",
    "x = 1\n",
    "win = 0\n",
    "for i in range(1000):\n",
    "    prize = [\"Loser\", \"Winner\", \"Big Winner\"]\n",
    "    choice = random.randrange(3)\n",
    "    random.shuffle(prize)\n",
    "      \n",
    "    if x == 1:\n",
    "        prize.remove(prize[choice])\n",
    "        if prize[choice] == \"Big Winner\":\n",
    "            win = win\n",
    "        else:\n",
    "            win += 1\n",
    "    else:\n",
    "        if prize[choice] == \"Big Winner\":\n",
    "            win += 1\n",
    "print(win)\n",
    "#return(print(win))"
   ]
  },
  {
   "cell_type": "code",
   "execution_count": null,
   "metadata": {},
   "outputs": [],
   "source": []
  },
  {
   "cell_type": "code",
   "execution_count": null,
   "metadata": {},
   "outputs": [],
   "source": []
  },
  {
   "cell_type": "code",
   "execution_count": null,
   "metadata": {},
   "outputs": [],
   "source": []
  },
  {
   "cell_type": "code",
   "execution_count": null,
   "metadata": {},
   "outputs": [],
   "source": []
  },
  {
   "cell_type": "code",
   "execution_count": null,
   "metadata": {},
   "outputs": [],
   "source": []
  }
 ],
 "metadata": {
  "kernelspec": {
   "display_name": "Python 3",
   "language": "python",
   "name": "python3"
  },
  "language_info": {
   "codemirror_mode": {
    "name": "ipython",
    "version": 3
   },
   "file_extension": ".py",
   "mimetype": "text/x-python",
   "name": "python",
   "nbconvert_exporter": "python",
   "pygments_lexer": "ipython3",
   "version": "3.7.4"
  }
 },
 "nbformat": 4,
 "nbformat_minor": 2
}
